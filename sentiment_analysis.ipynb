{
 "cells": [
  {
   "attachments": {},
   "cell_type": "markdown",
   "metadata": {},
   "source": [
    "### Step 1: Cleaning and Preparing Data"
   ]
  },
  {
   "cell_type": "code",
   "execution_count": 4,
   "metadata": {},
   "outputs": [
    {
     "name": "stderr",
     "output_type": "stream",
     "text": [
      "[nltk_data] Downloading package stopwords to /Users/stlp/nltk_data...\n",
      "[nltk_data]   Package stopwords is already up-to-date!\n",
      "[nltk_data] Downloading package punkt to /Users/stlp/nltk_data...\n",
      "[nltk_data]   Package punkt is already up-to-date!\n"
     ]
    },
    {
     "data": {
      "text/plain": [
       "True"
      ]
     },
     "execution_count": 4,
     "metadata": {},
     "output_type": "execute_result"
    }
   ],
   "source": [
    "\"\"\"\n",
    "This notebook trains and evaluates classification models used\n",
    "to predict sentiment values of tweets.\n",
    "\"\"\"\n",
    "\n",
    "\n",
    "# import packages\n",
    "import pandas as pd\n",
    "import numpy as np\n",
    "import math\n",
    "import string\n",
    "import matplotlib.pyplot as plt\n",
    "import nltk\n",
    "from nltk.stem.snowball import SnowballStemmer\n",
    "from nltk.tokenize import word_tokenize\n",
    "from nltk.corpus import stopwords\n",
    "from sklearn.feature_extraction.text import TfidfVectorizer\n",
    "from sklearn.preprocessing import MultiLabelBinarizer\n",
    "from sklearn.metrics import f1_score, hamming_loss\n",
    "from sklearn.svm import LinearSVC\n",
    "from sklearn.multiclass import OneVsRestClassifier\n",
    "from sklearn.ensemble import RandomForestClassifier\n",
    "from sklearn.tree import DecisionTreeClassifier\n",
    "from sklearn.model_selection import train_test_split\n",
    "from sklearn.metrics import classification_report\n",
    "from scipy.sparse import csr_matrix\n",
    "from typing import Any\n",
    "\n",
    "import nltk\n",
    "import ssl\n",
    "\n",
    "try:\n",
    "    _create_unverified_https_context = ssl._create_unverified_context\n",
    "except AttributeError:\n",
    "    pass\n",
    "else:\n",
    "    ssl._create_default_https_context = _create_unverified_https_context\n",
    "\n",
    "nltk.download('stopwords')\n",
    "nltk.download('punkt')"
   ]
  },
  {
   "cell_type": "code",
   "execution_count": 5,
   "metadata": {},
   "outputs": [
    {
     "data": {
      "text/html": [
       "<div>\n",
       "<style scoped>\n",
       "    .dataframe tbody tr th:only-of-type {\n",
       "        vertical-align: middle;\n",
       "    }\n",
       "\n",
       "    .dataframe tbody tr th {\n",
       "        vertical-align: top;\n",
       "    }\n",
       "\n",
       "    .dataframe thead th {\n",
       "        text-align: right;\n",
       "    }\n",
       "</style>\n",
       "<table border=\"1\" class=\"dataframe\">\n",
       "  <thead>\n",
       "    <tr style=\"text-align: right;\">\n",
       "      <th></th>\n",
       "      <th>sentiment</th>\n",
       "      <th>message</th>\n",
       "      <th>tweetid</th>\n",
       "    </tr>\n",
       "  </thead>\n",
       "  <tbody>\n",
       "    <tr>\n",
       "      <th>0</th>\n",
       "      <td>0</td>\n",
       "      <td>RT @vincecable: Nice summary. Add climate chan...</td>\n",
       "      <td>955713180684177408</td>\n",
       "    </tr>\n",
       "    <tr>\n",
       "      <th>2</th>\n",
       "      <td>1</td>\n",
       "      <td>RT @leftcoastbabe: EPA Sec. #ScottPruitt says ...</td>\n",
       "      <td>839961977766178817</td>\n",
       "    </tr>\n",
       "    <tr>\n",
       "      <th>3</th>\n",
       "      <td>0</td>\n",
       "      <td>RT @jennyb81112: Not much global warming going...</td>\n",
       "      <td>954760066531495936</td>\n",
       "    </tr>\n",
       "    <tr>\n",
       "      <th>4</th>\n",
       "      <td>1</td>\n",
       "      <td>RT @PaulPolman: Increasingly companies have to...</td>\n",
       "      <td>953094505875562496</td>\n",
       "    </tr>\n",
       "    <tr>\n",
       "      <th>5</th>\n",
       "      <td>-1</td>\n",
       "      <td>RT @mitchellvii: Phoenix just broke a heat rec...</td>\n",
       "      <td>884035737687085056</td>\n",
       "    </tr>\n",
       "  </tbody>\n",
       "</table>\n",
       "</div>"
      ],
      "text/plain": [
       "   sentiment                                            message   \n",
       "0          0  RT @vincecable: Nice summary. Add climate chan...  \\\n",
       "2          1  RT @leftcoastbabe: EPA Sec. #ScottPruitt says ...   \n",
       "3          0  RT @jennyb81112: Not much global warming going...   \n",
       "4          1  RT @PaulPolman: Increasingly companies have to...   \n",
       "5         -1  RT @mitchellvii: Phoenix just broke a heat rec...   \n",
       "\n",
       "              tweetid  \n",
       "0  955713180684177408  \n",
       "2  839961977766178817  \n",
       "3  954760066531495936  \n",
       "4  953094505875562496  \n",
       "5  884035737687085056  "
      ]
     },
     "execution_count": 5,
     "metadata": {},
     "output_type": "execute_result"
    }
   ],
   "source": [
    "# importing data\n",
    "df = pd.read_csv(\"filtered_twitter_data(10,000).csv\")\n",
    "\n",
    "# excluding tweets with sentiment = 2 because 2 represents factual news about\n",
    "# climate change, which is not a sentiment.\n",
    "df = df[df['sentiment'] != 2]\n",
    "\n",
    "df.head()"
   ]
  },
  {
   "cell_type": "code",
   "execution_count": 6,
   "metadata": {},
   "outputs": [
    {
     "data": {
      "text/plain": [
       "sentiment\n",
       " 1    5161\n",
       " 0    1805\n",
       "-1     885\n",
       "Name: count, dtype: int64"
      ]
     },
     "execution_count": 6,
     "metadata": {},
     "output_type": "execute_result"
    }
   ],
   "source": [
    "# sentiment value counts\n",
    "df.sentiment.value_counts()"
   ]
  },
  {
   "cell_type": "code",
   "execution_count": 7,
   "metadata": {},
   "outputs": [
    {
     "data": {
      "image/png": "[encoded data removed]",
      "text/plain": [
       "<Figure size 700x700 with 1 Axes>"
      ]
     },
     "metadata": {},
     "output_type": "display_data"
    }
   ],
   "source": [
    "# shows the distribution of sentiment values for the twitter dataset\n",
    "plt.figure(figsize=(7, 7))\n",
    "value_counts = df.sentiment.value_counts()\n",
    "plt.pie(value_counts.values,\n",
    "        labels=value_counts.index,\n",
    "        autopct='%2.1f%%',\n",
    "        textprops={'fontsize': 15})\n",
    "plt.title('Sentiment Distribution of the Twitter Dataset', fontsize=20)\n",
    "plt.tight_layout()\n",
    "\n",
    "# Display value counts as text\n",
    "for i, count in enumerate(value_counts.values):\n",
    "    plt.text(-1.1, -0.2 - i * 0.15,\n",
    "             f\"{value_counts.index[i]}: {count}\",\n",
    "             fontsize=12,\n",
    "             ha='center')\n",
    "\n",
    "plt.show()\n"
   ]
  },
  {
   "cell_type": "code",
   "execution_count": 8,
   "metadata": {},
   "outputs": [
    {
     "data": {
      "text/plain": [
       "0    rt user nice summary add climate change turnin...\n",
       "2    rt user epa sec scottpruitt says co2 doesnt ca...\n",
       "3         rt user much global warming going texas http\n",
       "4    rt user increasingly companies deal fallout cl...\n",
       "5    rt user phoenix broke heat record set 1905 omg...\n",
       "Name: message, dtype: object"
      ]
     },
     "execution_count": 8,
     "metadata": {},
     "output_type": "execute_result"
    }
   ],
   "source": [
    "def preprocessing_tweet(tweet: str) -> str:\n",
    "    \"\"\"\n",
    "    Preprocesses a tweet by removing punctuation, usernames, and URLs.\n",
    "    All words are lowercased.\n",
    "    \"\"\"\n",
    "    stop_words = set(stopwords.words('english'))\n",
    "    tweet_words = []\n",
    "    for word in tweet.split(\" \"):\n",
    "        # replaces usernames with @user\n",
    "        if word.startswith(\"@\") and len(word) > 1:\n",
    "            word = \"@user\"\n",
    "        # replaces URLs with http\n",
    "        elif word.startswith(\"http\"):\n",
    "            word = \"http\"\n",
    "        # Removes punctuation\n",
    "        word = word.translate(str.maketrans('', '', string.punctuation))\n",
    "        tweet_words.append(word.lower())\n",
    "    tweet_proc = \" \".join(tweet_words)\n",
    "    text_tokens = word_tokenize(tweet_proc)\n",
    "    filtered_text = [w for w in text_tokens if w not in stop_words]\n",
    "    tweet = \" \".join(filtered_text)\n",
    "    return tweet\n",
    "\n",
    "\n",
    "df['message'] = df['message'].apply(preprocessing_tweet)\n",
    "df['message'].head()"
   ]
  },
  {
   "cell_type": "code",
   "execution_count": 9,
   "metadata": {},
   "outputs": [
    {
     "data": {
      "text/plain": [
       "0    rt user nice summari add climat chang turn pre...\n",
       "2    rt user epa sec scottpruitt say co2 doesnt cau...\n",
       "3                rt user much global warm go texa http\n",
       "4    rt user increas compani deal fallout climat ch...\n",
       "5    rt user phoenix broke heat record set 1905 omg...\n",
       "Name: message, dtype: object"
      ]
     },
     "execution_count": 9,
     "metadata": {},
     "output_type": "execute_result"
    }
   ],
   "source": [
    "# defines the stemmer\n",
    "stemmer = SnowballStemmer(language='english')\n",
    "\n",
    "\n",
    "def stemming(tweet: str) -> str:\n",
    "    \"\"\"\n",
    "    Removes suffixes from the given tweet.\n",
    "    \"\"\"\n",
    "    tweet_words = []\n",
    "    for word in tweet.split(\" \"):\n",
    "        word = stemmer.stem(word)\n",
    "        tweet_words.append(word)\n",
    "    stem_tweet = \" \".join(tweet_words)\n",
    "    return stem_tweet\n",
    "\n",
    "\n",
    "df['message'] = df['message'].apply(stemming)\n",
    "df['message'].head()"
   ]
  },
  {
   "attachments": {},
   "cell_type": "markdown",
   "metadata": {},
   "source": [
    "### Step 2: Training Models"
   ]
  },
  {
   "cell_type": "code",
   "execution_count": 10,
   "metadata": {},
   "outputs": [],
   "source": [
    "# defines the label and the feature\n",
    "X = list(df['message'])\n",
    "y = list(df['sentiment'])\n"
   ]
  },
  {
   "cell_type": "code",
   "execution_count": 11,
   "metadata": {},
   "outputs": [],
   "source": [
    "def splitting_data(X: list, y: list, n: int) -> tuple[csr_matrix,\n",
    "                                                      csr_matrix,\n",
    "                                                      np.ndarray,\n",
    "                                                      np.ndarray,\n",
    "                                                      TfidfVectorizer]:\n",
    "    \"\"\"\n",
    "    Splits the data into training and testing sets, performs TF-IDF\n",
    "    vectorization, and converts labels to binary vectors.\n",
    "    \"\"\"\n",
    "    X_train, X_test, y_train, y_test = train_test_split(X,\n",
    "                                                        y,\n",
    "                                                        test_size=0.20,\n",
    "                                                        random_state=n,\n",
    "                                                        stratify=y)\n",
    "\n",
    "    # defines TF-IDF vectorizer and vectorizes testing and training data.\n",
    "    vectorizer = TfidfVectorizer()\n",
    "    vectorized_train_documents = vectorizer.fit_transform(X_train)\n",
    "    vectorized_test_documents = vectorizer.transform(X_test)\n",
    "\n",
    "    # using the One vs All concept to change the labels to vectors (3 x 1) each\n",
    "    mlb = MultiLabelBinarizer()\n",
    "    train_labels = mlb.fit_transform(map(str, y_train))\n",
    "    test_labels = mlb.transform(map(str, y_test))\n",
    "\n",
    "    return vectorized_test_documents, vectorized_train_documents, \\\n",
    "        train_labels, test_labels, vectorizer\n"
   ]
  },
  {
   "cell_type": "code",
   "execution_count": 12,
   "metadata": {},
   "outputs": [],
   "source": [
    "# defines vectorized data, labels, and vectorizer\n",
    "vectorized_test_documents, vectorized_train_documents, \\\n",
    "    train_labels, test_labels, vectorizer = splitting_data(X, y, 42)"
   ]
  },
  {
   "attachments": {},
   "cell_type": "markdown",
   "metadata": {},
   "source": [
    "### Step 3: Evaluating Models"
   ]
  },
  {
   "cell_type": "code",
   "execution_count": 13,
   "metadata": {},
   "outputs": [],
   "source": [
    "results = {}\n",
    "\n",
    "\n",
    "def metrics_report(model_name: str,\n",
    "                   test_labels: np.ndarray,\n",
    "                   predictions: np.ndarray,\n",
    "                   results: dict[str, dict[str, float]]) -> None:\n",
    "    \"\"\"\n",
    "    Calculates and stores metrics for a given model.\n",
    "    \"\"\"\n",
    "    macro_f1 = f1_score(test_labels, predictions, average='macro')\n",
    "    micro_f1 = f1_score(test_labels, predictions, average='micro')\n",
    "    hamLoss = hamming_loss(test_labels, predictions)\n",
    "    results[model_name] = {\n",
    "        'micro_f1': micro_f1,\n",
    "        'macro_f1': macro_f1,\n",
    "        'hamming_loss': hamLoss\n",
    "    }\n"
   ]
  },
  {
   "cell_type": "code",
   "execution_count": 14,
   "metadata": {},
   "outputs": [],
   "source": [
    "def model_and_predict(vectorized_train_documents: csr_matrix,\n",
    "                      vectorized_test_documents: csr_matrix,\n",
    "                      train_labels: np.ndarray,\n",
    "                      test_labels: np.ndarray,\n",
    "                      model_name: str,\n",
    "                      results: dict) -> None:\n",
    "    \"\"\"\n",
    "    Fits the model, makes predictions, and calculates evaluation metrics.\n",
    "    The classification report is printed.\n",
    "    \"\"\"\n",
    "    model_name.fit(vectorized_train_documents, train_labels)\n",
    "    pred = model_name.predict(vectorized_test_documents)\n",
    "    metrics_report(model_name, test_labels, pred, results)\n",
    "\n",
    "    # Print classification report\n",
    "    print(f\"Classification Report - {model_name.__class__.__name__}:\")\n",
    "    print(classification_report(test_labels, pred))\n"
   ]
  },
  {
   "cell_type": "code",
   "execution_count": 15,
   "metadata": {},
   "outputs": [
    {
     "name": "stdout",
     "output_type": "stream",
     "text": [
      "Classification Report - DecisionTreeClassifier:\n",
      "              precision    recall  f1-score   support\n",
      "\n",
      "           0       0.33      0.27      0.29       177\n",
      "           1       0.41      0.39      0.40       361\n",
      "           2       0.82      0.83      0.83      1210\n",
      "\n",
      "   micro avg       0.70      0.68      0.69      1748\n",
      "   macro avg       0.52      0.50      0.51      1748\n",
      "weighted avg       0.69      0.68      0.68      1748\n",
      " samples avg       0.71      0.70      0.70      1748\n",
      "\n",
      "Classification Report - OneVsRestClassifier:\n",
      "              precision    recall  f1-score   support\n",
      "\n",
      "           0       0.68      0.38      0.49       177\n",
      "           1       0.60      0.43      0.50       361\n",
      "           2       0.84      0.91      0.88      1210\n",
      "\n",
      "   micro avg       0.79      0.76      0.78      1748\n",
      "   macro avg       0.71      0.58      0.62      1748\n",
      "weighted avg       0.78      0.76      0.76      1748\n",
      " samples avg       0.80      0.78      0.78      1748\n",
      "\n",
      "Classification Report - RandomForestClassifier:\n",
      "              precision    recall  f1-score   support\n",
      "\n",
      "           0       0.73      0.09      0.16       177\n",
      "           1       0.70      0.24      0.36       361\n",
      "           2       0.81      0.97      0.88      1210\n",
      "\n",
      "   micro avg       0.80      0.73      0.76      1748\n",
      "   macro avg       0.75      0.43      0.47      1748\n",
      "weighted avg       0.78      0.73      0.70      1748\n",
      " samples avg       0.80      0.75      0.77      1748\n",
      "\n"
     ]
    },
    {
     "name": "stderr",
     "output_type": "stream",
     "text": [
      "/Library/Frameworks/Python.framework/Versions/3.10/lib/python3.10/site-packages/sklearn/metrics/_classification.py:1344: UndefinedMetricWarning: Precision and F-score are ill-defined and being set to 0.0 in samples with no predicted labels. Use `zero_division` parameter to control this behavior.\n",
      "  _warn_prf(average, modifier, msg_start, len(result))\n"
     ]
    }
   ],
   "source": [
    "# testing with three different models\n",
    "model_and_predict(vectorized_train_documents, vectorized_test_documents,\n",
    "                  train_labels, test_labels,\n",
    "                  DecisionTreeClassifier(), results)\n",
    "model_and_predict(vectorized_train_documents, vectorized_test_documents,\n",
    "                  train_labels, test_labels,\n",
    "                  OneVsRestClassifier(LinearSVC()), results)\n",
    "model_and_predict(vectorized_train_documents, vectorized_test_documents,\n",
    "                  train_labels, test_labels,\n",
    "                  RandomForestClassifier(), results)"
   ]
  },
  {
   "cell_type": "code",
   "execution_count": 16,
   "metadata": {},
   "outputs": [
    {
     "data": {
      "text/plain": [
       "{DecisionTreeClassifier(): {'micro_f1': 0.689575512561363,\n",
       "  'macro_f1': 0.5060708298331762,\n",
       "  'hamming_loss': 0.22809251007850626},\n",
       " OneVsRestClassifier(estimator=LinearSVC()): {'micro_f1': 0.7768353319684118,\n",
       "  'macro_f1': 0.6222686105723321,\n",
       "  'hamming_loss': 0.16189263738595375},\n",
       " RandomForestClassifier(): {'micro_f1': 0.7639304973037747,\n",
       "  'macro_f1': 0.46758736126320793,\n",
       "  'hamming_loss': 0.16719711436452367}}"
      ]
     },
     "execution_count": 16,
     "metadata": {},
     "output_type": "execute_result"
    }
   ],
   "source": [
    "# the micro f1 score, macro f1 score, and hammingloss of the three models\n",
    "results"
   ]
  },
  {
   "attachments": {},
   "cell_type": "markdown",
   "metadata": {},
   "source": [
    "Model LinearSVC performs the best as it has the highest values for micro f1\n",
    "and macro f1 and the lowest value for hamming loss."
   ]
  },
  {
   "attachments": {},
   "cell_type": "markdown",
   "metadata": {},
   "source": [
    "### Step 4: Evaluating Model Consistencies and Testing Data Processing"
   ]
  },
  {
   "cell_type": "code",
   "execution_count": 17,
   "metadata": {},
   "outputs": [],
   "source": [
    "\n",
    "\n",
    "def test_model_consistency(models: dict,\n",
    "                           X: np.ndarray,\n",
    "                           y: np.ndarray,\n",
    "                           num_iterations: int) -> dict:\n",
    "    \"\"\"\n",
    "    Tests the consistency of multiple models with the given features, labels,\n",
    "    and number of iterations.\n",
    "    Returns the averaged micro f1 score, macro f1 score, and hammingloss of\n",
    "    each model.\n",
    "    \"\"\"\n",
    "    results = {}\n",
    "    micro_f1_list = []\n",
    "    macro_f1_list = []\n",
    "    hamming_loss_list = []\n",
    "    for i in range(num_iterations):\n",
    "        vectorized_test_documents, vectorized_train_documents, \\\n",
    "            train_labels, test_labels, vectorizer = splitting_data(X, y, i)\n",
    "        for model_name, model in models.items():\n",
    "            model.fit(vectorized_train_documents, train_labels)\n",
    "            pred = model.predict(vectorized_test_documents)\n",
    "            metrics_report(model_name, test_labels, pred, results)\n",
    "            micro_f1, macro_f1, hamLoss = results[model_name]['micro_f1'], \\\n",
    "                results[model_name]['macro_f1'], \\\n",
    "                results[model_name]['hamming_loss']\n",
    "            micro_f1_list.append(micro_f1)\n",
    "            macro_f1_list.append(macro_f1)\n",
    "            hamming_loss_list.append(hamLoss)\n",
    "\n",
    "    avg_micro_f1 = sum(micro_f1_list) / len(micro_f1_list)\n",
    "    avg_macro_f1 = sum(macro_f1_list) / len(macro_f1_list)\n",
    "    avg_hamming_loss = sum(hamming_loss_list) / len(hamming_loss_list)\n",
    "\n",
    "    results[model_name] = {\n",
    "        'micro_f1': avg_micro_f1,\n",
    "        'macro_f1': avg_macro_f1,\n",
    "        'hamming_loss': avg_hamming_loss\n",
    "    }\n",
    "\n",
    "    return results\n"
   ]
  },
  {
   "cell_type": "code",
   "execution_count": 18,
   "metadata": {},
   "outputs": [
    {
     "data": {
      "text/plain": [
       "{'Decision Tree': {'micro_f1': 0.7007256894049347,\n",
       "  'macro_f1': 0.5143163218276744,\n",
       "  'hamming_loss': 0.21875663059622322},\n",
       " 'One-vs-Rest Linear SVC': {'micro_f1': 0.757727406535178,\n",
       "  'macro_f1': 0.570834245036687,\n",
       "  'hamming_loss': 0.17462338213452153},\n",
       " 'Random Forest': {'micro_f1': 0.7432059436651901,\n",
       "  'macro_f1': 0.5242099490010363,\n",
       "  'hamming_loss': 0.18511917391611848}}"
      ]
     },
     "execution_count": 18,
     "metadata": {},
     "output_type": "execute_result"
    }
   ],
   "source": [
    "# defines the model that we are testing\n",
    "models = {\n",
    "    'Decision Tree': DecisionTreeClassifier(),\n",
    "    'One-vs-Rest Linear SVC': OneVsRestClassifier(LinearSVC()),\n",
    "    'Random Forest': RandomForestClassifier()\n",
    "}\n",
    "\n",
    "num_iterations = 10\n",
    "\n",
    "consistency_results = test_model_consistency(models, X, y, num_iterations)\n",
    "\n",
    "consistency_results"
   ]
  },
  {
   "attachments": {},
   "cell_type": "markdown",
   "metadata": {},
   "source": [
    "This confirms that LinearSVC performs the best out of the three models as it\n",
    "still has the highest average values for micro f1 and macro f1 and the\n",
    "lowest average value for hamming loss after 10 iterations."
   ]
  },
  {
   "cell_type": "code",
   "execution_count": 19,
   "metadata": {},
   "outputs": [],
   "source": [
    "TOLERANCE = 0.001\n",
    "\n",
    "\n",
    "def check_approx_equals(expected: Any, received: Any) -> bool:\n",
    "    \"\"\"\n",
    "    Checks received against expected, and returns whether or\n",
    "    not they match (True if they do, False otherwise).\n",
    "    If the argument is a float, will do an approximate check.\n",
    "    If the arugment is a data structure will do an approximate check\n",
    "    on all of its contents.\n",
    "    \"\"\"\n",
    "    try:\n",
    "        if type(expected) == dict:\n",
    "            # first check that keys match, then check that the\n",
    "            # values approximately match\n",
    "            return expected.keys() == received.keys() and \\\n",
    "                all([check_approx_equals(expected[k], received[k])\n",
    "                    for k in expected.keys()])\n",
    "        elif type(expected) == list or type(expected) == set:\n",
    "            # Checks both lists/sets contain the same values\n",
    "            return len(expected) == len(received) and \\\n",
    "                all([check_approx_equals(v1, v2)\n",
    "                     for v1, v2 in zip(expected, received)])\n",
    "        elif type(expected) == float:\n",
    "            return math.isclose(expected, received, abs_tol=TOLERANCE)\n",
    "        elif type(expected) == np.ndarray:\n",
    "            return np.allclose(expected, received, atol=TOLERANCE,\n",
    "                               equal_nan=True)\n",
    "        elif type(expected) == pd.DataFrame:\n",
    "            try:\n",
    "                pd.testing.assert_frame_equal(expected, received,\n",
    "                                              atol=TOLERANCE)\n",
    "                return True\n",
    "            except AssertionError:\n",
    "                return False\n",
    "        elif type(expected) == pd.Series:\n",
    "            try:\n",
    "                pd.testing.assert_series_equal(expected, received,\n",
    "                                               atol=TOLERANCE)\n",
    "                return True\n",
    "            except AssertionError:\n",
    "                return False\n",
    "        else:\n",
    "            return expected == received\n",
    "    except Exception as e:\n",
    "        print(f\"EXCEPTION: Raised when checking check_approx_equals {e}\")\n",
    "        return False\n"
   ]
  },
  {
   "cell_type": "code",
   "execution_count": 20,
   "metadata": {},
   "outputs": [],
   "source": [
    "def assert_equals(expected: Any, received: Any) -> None:\n",
    "    \"\"\"\n",
    "    Checks received against expected, throws an AssertionError\n",
    "    if they don't match. If the argument is a float, will do an approximate\n",
    "    check. If the arugment is a data structure will do an approximate check\n",
    "    on all of its contents.\n",
    "    \"\"\"\n",
    "    if type(expected) == str:\n",
    "        # Make sure strings have explicit quotes around them\n",
    "        err_msg = f'Failed: Expected \"{expected}\", but received \"{received}\"'\n",
    "    elif type(expected) in [np.ndarray, pd.Series, pd.DataFrame]:\n",
    "        # Want to make multi-line output for data structures\n",
    "        err_msg = f'Failed: Expected\\n{expected}\\n\\nbut received\\n{received}'\n",
    "    else:\n",
    "        err_msg = f'Failed: Expected {expected}, but received {received}'\n",
    "\n",
    "    assert check_approx_equals(expected, received), err_msg\n"
   ]
  },
  {
   "cell_type": "code",
   "execution_count": 21,
   "metadata": {},
   "outputs": [],
   "source": [
    "def test_preprocessing_tweet():\n",
    "    \"\"\"\n",
    "    Tests function preprocessing_tweet\n",
    "    \"\"\"\n",
    "    test_df = pd.read_csv(\"test.csv\")\n",
    "\n",
    "    # Define expected outputs\n",
    "    expected_outputs = [\n",
    "        \"user uw students enrolled cse 163 intermediate python class \\\n",
    "enhance programming skills broaden understanding language info class http\",\n",
    "        \"love u user\"\n",
    "    ]\n",
    "\n",
    "    # Apply preprocessing_tweet function to 'message' column\n",
    "    processed_messages = test_df['message'].apply(preprocessing_tweet)\n",
    "\n",
    "    # Check if processed messages match the expected outputs\n",
    "    for i, processed_message in enumerate(processed_messages):\n",
    "        expected_output = expected_outputs[i]\n",
    "        assert_equals(expected_output, processed_message)\n",
    "\n",
    "\n",
    "test_preprocessing_tweet()\n"
   ]
  },
  {
   "cell_type": "code",
   "execution_count": 22,
   "metadata": {},
   "outputs": [],
   "source": [
    "def test_stemming():\n",
    "    \"\"\"\n",
    "    Tests function stemming\n",
    "    \"\"\"\n",
    "    test_df = pd.read_csv(\"preprocessed_test.csv\")\n",
    "\n",
    "    # Define expected outputs\n",
    "    expected_outputs = [\n",
    "        \"@ user uw student enrol cse 163 , intermedi python class , enhanc \\\n",
    "program skill broaden understand languag . info class http\",\n",
    "        \"love u @ user\"\n",
    "    ]\n",
    "\n",
    "    # Apply stemming function to 'message' column\n",
    "    stemmed_messages = test_df['message'].apply(stemming)\n",
    "\n",
    "    # Check if stemmed messages match the expected outputs\n",
    "    for i, stemmed_message in enumerate(stemmed_messages):\n",
    "        expected_output = expected_outputs[i]\n",
    "        assert_equals(expected_output, stemmed_message)\n"
   ]
  },
  {
   "cell_type": "code",
   "execution_count": 23,
   "metadata": {},
   "outputs": [],
   "source": [
    "# Run the test\n",
    "test_stemming()"
   ]
  },
  {
   "attachments": {},
   "cell_type": "markdown",
   "metadata": {},
   "source": [
    "### Step 5: Calculating Feature Importance by Using TF-IDF Scores"
   ]
  },
  {
   "cell_type": "code",
   "execution_count": 24,
   "metadata": {},
   "outputs": [
    {
     "name": "stdout",
     "output_type": "stream",
     "text": [
      "Word: http, TF-IDF Score: 1.0\n",
      "Word: ding, TF-IDF Score: 0.9980776379413474\n",
      "Word: yada, TF-IDF Score: 0.9947324846219204\n",
      "Word: user, TF-IDF Score: 0.9894859807702288\n",
      "Word: ðÿ, TF-IDF Score: 0.9865824237740625\n",
      "Word: proudcanadian, TF-IDF Score: 0.9830876493365694\n",
      "Word: climatechangeakaweath, TF-IDF Score: 0.9830876493365694\n",
      "Word: の危機, TF-IDF Score: 0.9830876493365694\n",
      "Word: cowpocalyps, TF-IDF Score: 0.9830876493365694\n",
      "Word: landyacht, TF-IDF Score: 0.9830876493365694\n",
      "Word: nomine, TF-IDF Score: 0.9775836073657944\n",
      "Word: fantast, TF-IDF Score: 0.9775836073657944\n",
      "Word: silli, TF-IDF Score: 0.9714002729121064\n",
      "Word: muh, TF-IDF Score: 0.9708888026646051\n",
      "Word: hum, TF-IDF Score: 0.9708888026646051\n",
      "Word: cop21, TF-IDF Score: 0.9687606264549361\n",
      "Word: queen, TF-IDF Score: 0.964511396239041\n",
      "Word: grammar, TF-IDF Score: 0.964254059852893\n",
      "Word: jaichandramesh, TF-IDF Score: 0.9611697783856283\n",
      "Word: found, TF-IDF Score: 0.9581057372702703\n",
      "Word: globalist, TF-IDF Score: 0.954690547857873\n",
      "Word: though, TF-IDF Score: 0.9476372074612185\n",
      "Word: dianacgg35, TF-IDF Score: 0.9470632143104275\n",
      "Word: except, TF-IDF Score: 0.9466004029162163\n",
      "Word: liter, TF-IDF Score: 0.9459209199205232\n",
      "Word: king, TF-IDF Score: 0.9446265763767814\n",
      "Word: thing, TF-IDF Score: 0.9445720620115824\n",
      "Word: technologist, TF-IDF Score: 0.9435458026119191\n",
      "Word: httpstcomcn5hnaeoc, TF-IDF Score: 0.9410621511815489\n",
      "Word: laheatwav, TF-IDF Score: 0.9410621511815489\n"
     ]
    }
   ],
   "source": [
    "# Initializing Vectorization of data\n",
    "vectorizer = TfidfVectorizer()\n",
    "tfidf_matrix = vectorizer.fit_transform(X)\n",
    "\n",
    "# Retrieve feature names\n",
    "feature_names = vectorizer.get_feature_names_out()\n",
    "\n",
    "# Find the maximum TF-IDF scores for each feature\n",
    "max_tfidf_scores = tfidf_matrix.max(axis=0).toarray()[0]\n",
    "\n",
    "# Sort the maximum TF-IDF scores and retrieve the indices of the top 10 scores\n",
    "top_indices = max_tfidf_scores.argsort()[-30:][::-1]\n",
    "\n",
    "# Retrieve the corresponding feature names (words)\n",
    "top_words = [feature_names[idx] for idx in top_indices]\n",
    "\n",
    "# Print the top words with their TF-IDF scores\n",
    "for word, score in zip(top_words, max_tfidf_scores[top_indices]):\n",
    "    print(f\"Word: {word}, TF-IDF Score: {score}\")"
   ]
  }
 ],
 "metadata": {
  "kernelspec": {
   "display_name": "Python 3",
   "language": "python",
   "name": "python3"
  },
  "language_info": {
   "codemirror_mode": {
    "name": "ipython",
    "version": 3
   },
   "file_extension": ".py",
   "mimetype": "text/x-python",
   "name": "python",
   "nbconvert_exporter": "python",
   "pygments_lexer": "ipython3",
   "version": "3.10.0"
  },
  "orig_nbformat": 4
 },
 "nbformat": 4,
 "nbformat_minor": 2
}
